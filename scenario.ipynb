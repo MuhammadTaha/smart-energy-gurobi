{
 "cells": [
  {
   "cell_type": "code",
   "execution_count": 308,
   "metadata": {},
   "outputs": [],
   "source": [
    "%config IPCompleter.greedy=True"
   ]
  },
  {
   "cell_type": "code",
   "execution_count": 309,
   "metadata": {
    "scrolled": true
   },
   "outputs": [],
   "source": [
    "from gurobipy import *\n",
    "import json\n",
    "\n",
    "class Scenario1:\n",
    "\n",
    "    def minimize_energy_consumption(self):\n",
    "        try:\n",
    "    \n",
    "            K = 6\n",
    "            \n",
    "            k = range(1,K)\n",
    "            PUC = 400\n",
    "            PL = 640\n",
    "            duration = 15\n",
    "            # Create a new model\n",
    "            m = Model(\"MEC\")\n",
    "            \n",
    "            temp = m.addVar(-26,48, vtype=GRB.CONTINUOUS, name = \"temp\")\n",
    "#             duration = m.addVar(lb=15,ub=17, name = \"duration\")\n",
    "\n",
    "            m.update()\n",
    "            obj = (0.079*temp*temp - 1.7956*temp +184.38) \n",
    "            m.setObjective(quicksum((obj + PUC + PL) for i in k)* duration, GRB.MINIMIZE)\n",
    "\n",
    "            # Optimize model\n",
    "            m.optimize()\n",
    "            \n",
    "            for v in m.getVars():\n",
    "                print('%s %g' % (v.varName, v.x))\n",
    "\n",
    "            print('Obj: %g' % m.objVal)\n",
    "\n",
    "        except GurobiError as e:\n",
    "            print('Error code ' + str(e.errno) + \": \" + str(e))\n",
    "\n",
    "            "
   ]
  },
  {
   "cell_type": "code",
   "execution_count": 310,
   "metadata": {},
   "outputs": [
    {
     "name": "stdout",
     "output_type": "stream",
     "text": [
      "Optimize a model with 0 rows, 1 columns and 0 nonzeros\n",
      "Model has 1 quadratic objective term\n",
      "Coefficient statistics:\n",
      "  Matrix range     [0e+00, 0e+00]\n",
      "  Objective range  [1e+02, 1e+02]\n",
      "  QObjective range [1e+01, 1e+01]\n",
      "  Bounds range     [3e+01, 5e+01]\n",
      "  RHS range        [0e+00, 0e+00]\n",
      "Presolve removed 0 rows and 1 columns\n",
      "Presolve time: 0.02s\n",
      "Presolve: All rows and columns removed\n",
      "\n",
      "Barrier solved model in 0 iterations and 0.03 seconds\n",
      "Optimal objective 9.10632676e+04\n",
      "temp 11.3646\n",
      "Obj: 91063.3\n"
     ]
    }
   ],
   "source": [
    "sc1 = Scenario1()\n",
    "sc1.minimize_energy_consumption()"
   ]
  }
 ],
 "metadata": {
  "kernelspec": {
   "display_name": "Python 3",
   "language": "python",
   "name": "python3"
  },
  "language_info": {
   "codemirror_mode": {
    "name": "ipython",
    "version": 3
   },
   "file_extension": ".py",
   "mimetype": "text/x-python",
   "name": "python",
   "nbconvert_exporter": "python",
   "pygments_lexer": "ipython3",
   "version": "3.7.3"
  }
 },
 "nbformat": 4,
 "nbformat_minor": 2
}
