{
 "cells": [
  {
   "cell_type": "code",
   "execution_count": 35,
   "metadata": {},
   "outputs": [],
   "source": [
    "%config IPCompleter.greedy=True"
   ]
  },
  {
   "cell_type": "code",
   "execution_count": 36,
   "metadata": {
    "scrolled": true
   },
   "outputs": [],
   "source": [
    "from gurobipy import *\n",
    "import json\n",
    "\n",
    "class Scenario:\n",
    "\n",
    "    def minimize_energy_consumption(self):\n",
    "        try:\n",
    "    \n",
    "            K = 3\n",
    "            \n",
    "            k = range(1,K)\n",
    "            EUC = 6.021\n",
    "            EL = 150\n",
    "            # Create a new model\n",
    "            m = Model(\"MEC\")\n",
    "            \n",
    "            temp = m.addVar(-26,48, vtype=GRB.CONTINUOUS, name = \"temp\")\n",
    "#             duration = m.addVar(lb=15,ub=17, name = \"duration\")\n",
    "\n",
    "            m.update()\n",
    "            EC = (1.974*temp*temp - 44.889*temp +4409.5) \n",
    "            m.setObjective(quicksum((EC + EUC + EL) for i in k), GRB.MINIMIZE)\n",
    "\n",
    "            # Optimize model\n",
    "            m.optimize()\n",
    "            \n",
    "            for v in m.getVars():\n",
    "                print('%s %g' % (v.varName, v.x))\n",
    "\n",
    "            print('Obj: %g' % m.objVal)\n",
    "\n",
    "        except GurobiError as e:\n",
    "            print('Error code ' + str(e.errno) + \": \" + str(e))\n",
    "\n",
    "            "
   ]
  },
  {
   "cell_type": "code",
   "execution_count": 37,
   "metadata": {
    "scrolled": true
   },
   "outputs": [
    {
     "name": "stdout",
     "output_type": "stream",
     "text": [
      "Optimize a model with 0 rows, 1 columns and 0 nonzeros\n",
      "Model has 1 quadratic objective term\n",
      "Coefficient statistics:\n",
      "  Matrix range     [0e+00, 0e+00]\n",
      "  Objective range  [9e+01, 9e+01]\n",
      "  QObjective range [8e+00, 8e+00]\n",
      "  Bounds range     [3e+01, 5e+01]\n",
      "  RHS range        [0e+00, 0e+00]\n",
      "Presolve removed 0 rows and 1 columns\n",
      "Presolve time: 0.01s\n",
      "Presolve: All rows and columns removed\n",
      "\n",
      "Barrier solved model in 0 iterations and 0.02 seconds\n",
      "Optimal objective 8.62065134e+03\n",
      "temp 11.3701\n",
      "Obj: 8620.65\n"
     ]
    }
   ],
   "source": [
    "sc1 = Scenario()\n",
    "sc1.minimize_energy_consumption()"
   ]
  },
  {
   "cell_type": "code",
   "execution_count": null,
   "metadata": {},
   "outputs": [],
   "source": []
  },
  {
   "cell_type": "code",
   "execution_count": null,
   "metadata": {},
   "outputs": [],
   "source": []
  }
 ],
 "metadata": {
  "kernelspec": {
   "display_name": "Python 3",
   "language": "python",
   "name": "python3"
  },
  "language_info": {
   "codemirror_mode": {
    "name": "ipython",
    "version": 3
   },
   "file_extension": ".py",
   "mimetype": "text/x-python",
   "name": "python",
   "nbconvert_exporter": "python",
   "pygments_lexer": "ipython3",
   "version": "3.7.3"
  }
 },
 "nbformat": 4,
 "nbformat_minor": 2
}
