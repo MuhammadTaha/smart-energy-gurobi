{
 "cells": [
  {
   "cell_type": "code",
   "execution_count": 76,
   "metadata": {},
   "outputs": [],
   "source": [
    "%config IPCompleter.greedy=True"
   ]
  },
  {
   "cell_type": "code",
   "execution_count": 77,
   "metadata": {
    "scrolled": true
   },
   "outputs": [],
   "source": [
    "from gurobipy import *\n",
    "import json\n",
    "\n",
    "class Scenario:\n",
    "\n",
    "    def minimize_energy_consumption(self):\n",
    "        try:\n",
    "    \n",
    "            K = 4\n",
    "            \n",
    "            k = range(1,K)\n",
    "            EUC = 4551\n",
    "            ELAggresive = 4248\n",
    "            ELEconomic = 4181\n",
    "            ELDrowsy = 3520 \n",
    "\n",
    "            # Create a new model\n",
    "            mAggresive = Model(\"mAggresive\")\n",
    "            mEconomic = Model(\"mEconomic\")\n",
    "            mDrowsy = Model(\"mDrowsy\")\n",
    "\n",
    "            \n",
    "            temp = mAggresive.addVar(-26,48, vtype=GRB.CONTINUOUS, name = \"temp\")\n",
    "            tempEcon = mEconomic.addVar(-26,48, vtype=GRB.CONTINUOUS, name = \"tempEcon\")\n",
    "            tempDrow = mDrowsy.addVar(-26,48, vtype=GRB.CONTINUOUS, name = \"tempDrow\")\n",
    "\n",
    "#             duration = m.addVar(lb=15,ub=17, name = \"duration\")\n",
    "\n",
    "            mAggresive.update()\n",
    "            mEconomic.update()\n",
    "            mDrowsy.update()\n",
    "            \n",
    "            EC = (1.974*temp*temp - 44.889*temp +4409.5) \n",
    "            ECEcon = (1.974*tempEcon*tempEcon - 44.889*tempEcon +4409.5) \n",
    "            ECDrow = (1.974*tempDrow*tempDrow - 44.889*tempDrow +4409.5) \n",
    "            \n",
    "            mAggresive.setObjective(EC + EUC + ELAggresive, GRB.MINIMIZE)\n",
    "            mEconomic.setObjective(ECEcon + EUC + ELEconomic, GRB.MINIMIZE)\n",
    "            mDrowsy.setObjective(ECDrow + EUC + ELDrowsy, GRB.MINIMIZE)\n",
    "\n",
    "            # Optimize model\n",
    "            mAggresive.optimize()\n",
    "            mEconomic.optimize()\n",
    "            mDrowsy.optimize()\n",
    "\n",
    "            for v in mAggresive.getVars():\n",
    "                print('%s %g' % (v.varName, v.x))\n",
    "\n",
    "            print('Obj: %g' % mAggresive.objVal)\n",
    "            \n",
    "            for v in mEconomic.getVars():\n",
    "                print('%s %g' % (v.varName, v.x))\n",
    "\n",
    "            print('Obj: %g' % mEconomic.objVal)\n",
    "            \n",
    "            for v in mDrowsy.getVars():\n",
    "                print('%s %g' % (v.varName, v.x))\n",
    "\n",
    "            print('Obj: %g' % mDrowsy.objVal)\n",
    "\n",
    "        except GurobiError as e:\n",
    "            print('Error code ' + str(e.errno) + \": \" + str(e))\n",
    "\n",
    "            "
   ]
  },
  {
   "cell_type": "code",
   "execution_count": 78,
   "metadata": {
    "scrolled": false
   },
   "outputs": [
    {
     "name": "stdout",
     "output_type": "stream",
     "text": [
      "Optimize a model with 0 rows, 1 columns and 0 nonzeros\n",
      "Model has 1 quadratic objective term\n",
      "Coefficient statistics:\n",
      "  Matrix range     [0e+00, 0e+00]\n",
      "  Objective range  [4e+01, 4e+01]\n",
      "  QObjective range [4e+00, 4e+00]\n",
      "  Bounds range     [3e+01, 5e+01]\n",
      "  RHS range        [0e+00, 0e+00]\n",
      "Presolve removed 0 rows and 1 columns\n",
      "Presolve time: 0.02s\n",
      "Presolve: All rows and columns removed\n",
      "\n",
      "Barrier solved model in 0 iterations and 0.02 seconds\n",
      "Optimal objective 1.29533047e+04\n",
      "Optimize a model with 0 rows, 1 columns and 0 nonzeros\n",
      "Model has 1 quadratic objective term\n",
      "Coefficient statistics:\n",
      "  Matrix range     [0e+00, 0e+00]\n",
      "  Objective range  [4e+01, 4e+01]\n",
      "  QObjective range [4e+00, 4e+00]\n",
      "  Bounds range     [3e+01, 5e+01]\n",
      "  RHS range        [0e+00, 0e+00]\n",
      "Presolve removed 0 rows and 1 columns\n",
      "Presolve time: 0.02s\n",
      "Presolve: All rows and columns removed\n",
      "\n",
      "Barrier solved model in 0 iterations and 0.03 seconds\n",
      "Optimal objective 1.28863047e+04\n",
      "Optimize a model with 0 rows, 1 columns and 0 nonzeros\n",
      "Model has 1 quadratic objective term\n",
      "Coefficient statistics:\n",
      "  Matrix range     [0e+00, 0e+00]\n",
      "  Objective range  [4e+01, 4e+01]\n",
      "  QObjective range [4e+00, 4e+00]\n",
      "  Bounds range     [3e+01, 5e+01]\n",
      "  RHS range        [0e+00, 0e+00]\n",
      "Presolve removed 0 rows and 1 columns\n",
      "Presolve time: 0.02s\n",
      "Presolve: All rows and columns removed\n",
      "\n",
      "Barrier solved model in 0 iterations and 0.03 seconds\n",
      "Optimal objective 1.22253047e+04\n",
      "temp 11.3701\n",
      "Obj: 12953.3\n",
      "tempEcon 11.3701\n",
      "Obj: 12886.3\n",
      "tempDrow 11.3701\n",
      "Obj: 12225.3\n"
     ]
    }
   ],
   "source": [
    "sc1 = Scenario()\n",
    "sc1.minimize_energy_consumption()"
   ]
  },
  {
   "cell_type": "code",
   "execution_count": null,
   "metadata": {},
   "outputs": [],
   "source": []
  },
  {
   "cell_type": "code",
   "execution_count": null,
   "metadata": {},
   "outputs": [],
   "source": []
  }
 ],
 "metadata": {
  "kernelspec": {
   "display_name": "Python 3",
   "language": "python",
   "name": "python3"
  },
  "language_info": {
   "codemirror_mode": {
    "name": "ipython",
    "version": 3
   },
   "file_extension": ".py",
   "mimetype": "text/x-python",
   "name": "python",
   "nbconvert_exporter": "python",
   "pygments_lexer": "ipython3",
   "version": "3.7.3"
  }
 },
 "nbformat": 4,
 "nbformat_minor": 2
}
