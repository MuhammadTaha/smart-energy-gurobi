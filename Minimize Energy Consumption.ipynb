{
 "cells": [
  {
   "cell_type": "code",
   "execution_count": 74,
   "metadata": {},
   "outputs": [],
   "source": [
    "%config IPCompleter.greedy=True"
   ]
  },
  {
   "cell_type": "code",
   "execution_count": 75,
   "metadata": {
    "scrolled": true
   },
   "outputs": [
    {
     "ename": "SyntaxError",
     "evalue": "invalid syntax (<ipython-input-75-0ed60816a071>, line 38)",
     "output_type": "error",
     "traceback": [
      "\u001b[1;36m  File \u001b[1;32m\"<ipython-input-75-0ed60816a071>\"\u001b[1;36m, line \u001b[1;32m38\u001b[0m\n\u001b[1;33m    mEconomic.setObjective(ECEcon + EUC + ELEconomic, GRB.MINIMIZE)\u001b[0m\n\u001b[1;37m            ^\u001b[0m\n\u001b[1;31mSyntaxError\u001b[0m\u001b[1;31m:\u001b[0m invalid syntax\n"
     ]
    }
   ],
   "source": [
    "from gurobipy import *\n",
    "import json\n",
    "\n",
    "class Scenario:\n",
    "\n",
    "    def minimize_energy_consumption(self):\n",
    "        try:\n",
    "    \n",
    "            K = 4\n",
    "            \n",
    "            k = range(1,K)\n",
    "            EUC = 4551\n",
    "            ELAggresive = 4248\n",
    "            ELEconomic = 4181\n",
    "            ELDrowsy = 3520 \n",
    "\n",
    "            # Create a new model\n",
    "            mAggresive = Model(\"mAggresive\")\n",
    "            mEconomic = Model(\"mEconomic\")\n",
    "            mDrowsy = Model(\"mDrowsy\")\n",
    "\n",
    "            \n",
    "            temp = mAggresive.addVar(-26,48, vtype=GRB.CONTINUOUS, name = \"temp\")\n",
    "            tempEcon = mEconomic.addVar(-26,48, vtype=GRB.CONTINUOUS, name = \"tempEcon\")\n",
    "            tempDrow = mDrowsy.addVar(-26,48, vtype=GRB.CONTINUOUS, name = \"tempDrow\")\n",
    "\n",
    "#             duration = m.addVar(lb=15,ub=17, name = \"duration\")\n",
    "\n",
    "            mAggresive.update()\n",
    "            mEconomic.update()\n",
    "            mDrowsy.update()\n",
    "            \n",
    "            EC = (1.974*temp*temp - 44.889*temp +4409.5) \n",
    "            ECEcon = (1.974*tempEcon*tempEcon - 44.889*tempEcon +4409.5) \n",
    "            ECDrow = (1.974*tempDrow*tempDrow - 44.889*tempDrow +4409.5) \n",
    "            \n",
    "            mAggresive.setObjective(EC + EUC + ELAggresive, GRB.MINIMIZE)\n",
    "            mEconomic.setObjective(ECEcon + EUC + ELEconomic, GRB.MINIMIZE)\n",
    "            mDrowsy.setObjective(ECDrow + EUC + ELDrowsy, GRB.MINIMIZE)\n",
    "\n",
    "            # Optimize model\n",
    "            mAggresive.optimize()\n",
    "            mEconomic.optimize()\n",
    "            mDrowsy.optimize()\n",
    "\n",
    "            for v in mAggresive.getVars():\n",
    "                print('%s %g' % (v.varName, v.x))\n",
    "\n",
    "            print('Obj: %g' % mAggresive.objVal)\n",
    "            \n",
    "            for v in mEconomic.getVars():\n",
    "                print('%s %g' % (v.varName, v.x))\n",
    "\n",
    "            print('Obj: %g' % mEconomic.objVal)\n",
    "            \n",
    "            for v in mDrowsy.getVars():\n",
    "                print('%s %g' % (v.varName, v.x))\n",
    "\n",
    "            print('Obj: %g' % mDrowsy.objVal)\n",
    "\n",
    "        except GurobiError as e:\n",
    "            print('Error code ' + str(e.errno) + \": \" + str(e))\n",
    "\n",
    "            "
   ]
  },
  {
   "cell_type": "code",
   "execution_count": null,
   "metadata": {
    "scrolled": false
   },
   "outputs": [],
   "source": [
    "sc1 = Scenario()\n",
    "sc1.minimize_energy_consumption()"
   ]
  },
  {
   "cell_type": "code",
   "execution_count": null,
   "metadata": {},
   "outputs": [],
   "source": []
  },
  {
   "cell_type": "code",
   "execution_count": null,
   "metadata": {},
   "outputs": [],
   "source": []
  }
 ],
 "metadata": {
  "kernelspec": {
   "display_name": "Python 3",
   "language": "python",
   "name": "python3"
  },
  "language_info": {
   "codemirror_mode": {
    "name": "ipython",
    "version": 3
   },
   "file_extension": ".py",
   "mimetype": "text/x-python",
   "name": "python",
   "nbconvert_exporter": "python",
   "pygments_lexer": "ipython3",
   "version": "3.7.3"
  }
 },
 "nbformat": 4,
 "nbformat_minor": 2
}
