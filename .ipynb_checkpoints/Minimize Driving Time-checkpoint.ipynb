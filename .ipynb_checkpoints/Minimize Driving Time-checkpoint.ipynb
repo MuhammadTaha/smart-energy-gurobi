{
 "cells": [
  {
   "cell_type": "code",
   "execution_count": 1,
   "metadata": {},
   "outputs": [],
   "source": [
    "from gurobipy import *\n",
    "import numpy as np\n",
    "import matplotlib.pyplot as plt\n",
    "import pandas as pd\n",
    "from datetime import datetime\n",
    "from datetime import timedelta\n",
    "from operator import itemgetter \n",
    "import time"
   ]
  },
  {
   "cell_type": "code",
   "execution_count": 3,
   "metadata": {},
   "outputs": [
    {
     "name": "stderr",
     "output_type": "stream",
     "text": [
      "C:\\Users\\yubim\\Anaconda3\\lib\\site-packages\\ipykernel_launcher.py:59: FutureWarning: elementwise comparison failed; returning scalar instead, but in the future will perform elementwise comparison\n"
     ]
    },
    {
     "ename": "NameError",
     "evalue": "name 'm' is not defined",
     "output_type": "error",
     "traceback": [
      "\u001b[1;31m---------------------------------------------------------------------------\u001b[0m",
      "\u001b[1;31mNameError\u001b[0m                                 Traceback (most recent call last)",
      "\u001b[1;32m<ipython-input-3-1f12a6515ab7>\u001b[0m in \u001b[0;36m<module>\u001b[1;34m()\u001b[0m\n\u001b[0;32m     74\u001b[0m \u001b[0mchoice\u001b[0m \u001b[1;33m=\u001b[0m \u001b[0mlist\u001b[0m\u001b[1;33m(\u001b[0m\u001b[1;33m)\u001b[0m\u001b[1;33m\u001b[0m\u001b[0m\n\u001b[0;32m     75\u001b[0m \u001b[1;32mfor\u001b[0m \u001b[0mx\u001b[0m \u001b[1;32min\u001b[0m \u001b[0mrange\u001b[0m\u001b[1;33m(\u001b[0m\u001b[0mlen\u001b[0m\u001b[1;33m(\u001b[0m\u001b[0mrelevantTimes\u001b[0m\u001b[1;33m)\u001b[0m\u001b[1;33m)\u001b[0m\u001b[1;33m:\u001b[0m\u001b[1;33m\u001b[0m\u001b[0m\n\u001b[1;32m---> 76\u001b[1;33m     \u001b[0mchoice\u001b[0m\u001b[1;33m.\u001b[0m\u001b[0mappend\u001b[0m\u001b[1;33m(\u001b[0m\u001b[0mm\u001b[0m\u001b[1;33m.\u001b[0m\u001b[0maddVar\u001b[0m\u001b[1;33m(\u001b[0m\u001b[0mvtype\u001b[0m\u001b[1;33m=\u001b[0m\u001b[0mGRB\u001b[0m\u001b[1;33m.\u001b[0m\u001b[0mBINARY\u001b[0m\u001b[1;33m)\u001b[0m\u001b[1;33m)\u001b[0m\u001b[1;33m\u001b[0m\u001b[0m\n\u001b[0m\u001b[0;32m     77\u001b[0m \u001b[1;33m\u001b[0m\u001b[0m\n\u001b[0;32m     78\u001b[0m \u001b[0mtemp\u001b[0m \u001b[1;33m=\u001b[0m \u001b[0mrelevantTimes\u001b[0m\u001b[1;33m.\u001b[0m\u001b[0mselect\u001b[0m\u001b[1;33m(\u001b[0m\u001b[1;33m)\u001b[0m\u001b[1;33m\u001b[0m\u001b[0m\n",
      "\u001b[1;31mNameError\u001b[0m: name 'm' is not defined"
     ]
    }
   ],
   "source": [
    "data = pd.read_csv('Dataset_goal_3_time_csv.csv',sep=';')\n",
    "\n",
    "selectedDay = 'Sunday'\n",
    "\n",
    "### Calcuate average travel time from max and min travel time\n",
    "city = list()\n",
    "highway = list()\n",
    "for row in np.arange(data.shape[0]):\n",
    "    #print('Scenario I average: ',sum(list(data.iloc[row,3:5].values))/2)\n",
    "    city.append(sum(list(data.iloc[row,3:5].values))/2)\n",
    "    \n",
    "    #print('Scenario II average: ',sum(list(data.iloc[row,6:].values))/2)\n",
    "    highway.append(sum(list(data.iloc[row,6:].values))/2)\n",
    "    \n",
    "data['averageTimeCity'] = city\n",
    "data['averageTimeHighway'] = highway\n",
    "\n",
    "### Split Columns\n",
    "\n",
    "daySplitted = data.Day.str.split(' - ', n = 1, expand=True)\n",
    "\n",
    "data['Weekday'] = daySplitted[0]\n",
    "data['Date'] = daySplitted[1]\n",
    "\n",
    "dateSplitted = data.Date.str.split('/',n=2, expand = True)\n",
    "\n",
    "data['Month'] = dateSplitted[0]\n",
    "data['Day'] = dateSplitted[1]\n",
    "data['Year'] = dateSplitted[2]\n",
    "\n",
    "timeSplitted = data['Departure time'].str.split(':',n=1, expand=True)\n",
    "\n",
    "data['Hour'] = timeSplitted[0]\n",
    "data['Minute'] = timeSplitted[1]\n",
    "\n",
    "\n",
    "days = list(data.Weekday.drop_duplicates())\n",
    "    \n",
    "### tuples(scenario, weekday, year, month, day, hour, minute | trip time)\n",
    "\n",
    "tupledict_input = list()\n",
    "N=10\n",
    "for d in days:\n",
    "    tempData = data[data.Weekday == d]\n",
    "    for st in range(len(tempData)):\n",
    "        startingTime = tempData['Departure time'].values[st]\n",
    "        averageTravelTimeCity = tempData['averageTimeCity'].values[st]\n",
    "        averageTravelTimeHighway = tempData['averageTimeHighway'].values[st]\n",
    "        tupledict_input.append([('city', d, tempData.iloc[st,:].Year,tempData.iloc[st,:].Month,\n",
    "                                tempData.iloc[st,:].Day,tempData.iloc[st,:].Hour,tempData.iloc[st,:].Minute), \n",
    "                                averageTravelTimeCity])\n",
    "        tupledict_input.append([('highway', d, tempData.iloc[st,:].Year,tempData.iloc[st,:].Month,\n",
    "                                tempData.iloc[st,:].Day,tempData.iloc[st,:].Hour,tempData.iloc[st,:].Minute), \n",
    "                                averageTravelTimeHighway])\n",
    "\n",
    "times = tupledict(tupledict_input) \n",
    "relevantTimes = times.subset('*', selectedDay)\n",
    "min_value = min(relevantTimes.select())\n",
    "min_day = [i for i, x in enumerate(relevantTimes) if x == min_value]\n",
    "\n",
    "### calculate arrival time for each trip with min time\n",
    "arrivalTime = list()\n",
    "\n",
    "for t in relevantTimes.iteritems():\n",
    "    if t[1] == min_value:\n",
    "        arrivalTime.append(datetime(int(t[0][2]),int(t[0][3]),int(t[0][4]),\n",
    "                             int(t[0][5]),int(t[0][6])) + timedelta(minutes = min_value))\n",
    "\n",
    "goalTime = 10 * 60\n",
    "arrivalTimeMinutes = [arrivalTime[x].hour * 60 + arrivalTime[x].minute for x in range(len(arrivalTime))]\n",
    "\n",
    "### variable to choose only the minimum driving time\n",
    "\n",
    "choice = list()\n",
    "for x in range(len(relevantTimes)):\n",
    "    choice.append(m.addVar(vtype=GRB.BINARY))\n",
    "    \n",
    "temp = relevantTimes.select()\n",
    "    \n",
    "m.update()\n",
    "\n",
    "m.addConstr(quicksum(choice) == 1)\n",
    "\n",
    "m.setObjective(quicksum(temp[x] * choice[x] for x in range(len(temp))), GRB.MINIMIZE)\n",
    "\n",
    "m.optimize()"
   ]
  }
 ],
 "metadata": {
  "kernelspec": {
   "display_name": "Python 3",
   "language": "python",
   "name": "python3"
  },
  "language_info": {
   "codemirror_mode": {
    "name": "ipython",
    "version": 3
   },
   "file_extension": ".py",
   "mimetype": "text/x-python",
   "name": "python",
   "nbconvert_exporter": "python",
   "pygments_lexer": "ipython3",
   "version": "3.6.4"
  }
 },
 "nbformat": 4,
 "nbformat_minor": 2
}
