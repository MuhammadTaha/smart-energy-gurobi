{
 "cells": [
  {
   "cell_type": "code",
   "execution_count": null,
   "metadata": {},
   "outputs": [],
   "source": [
    "%config IPCompleter.greedy=True"
   ]
  },
  {
   "cell_type": "code",
   "execution_count": null,
   "metadata": {
    "scrolled": true
   },
   "outputs": [],
   "source": [
    "from gurobipy import *\n",
    "import math\n",
    "import json\n",
    "\n",
    "class Scenario:\n",
    "\n",
    "    def minimize_energy_consumption(self):\n",
    "        try:\n",
    "    \n",
    "            tempUB = 20\n",
    "            tempLB = 18\n",
    "            EUC = 4551\n",
    "            ELAggresive = 4248\n",
    "            ELEconomic = 4181\n",
    "            ELDrowsy = 3520 \n",
    "\n",
    "            # Create a new model\n",
    "            mAggresive = Model(\"mAggresive\")\n",
    "            mEconomic = Model(\"mEconomic\")\n",
    "            mDrowsy = Model(\"mDrowsy\")\n",
    "\n",
    "            \n",
    "            temp = mAggresive.addVar(tempLB,tempUB, vtype=GRB.CONTINUOUS, name = \"temp\")\n",
    "            tempEcon = mEconomic.addVar(tempLB,tempUB, vtype=GRB.CONTINUOUS, name = \"tempEcon\")\n",
    "            tempDrow = mDrowsy.addVar(tempLB,tempUB, vtype=GRB.CONTINUOUS, name = \"tempDrow\")\n",
    "    \n",
    "\n",
    "            mAggresive.update()\n",
    "            mEconomic.update()\n",
    "            mDrowsy.update()\n",
    "            \n",
    "            EC = (1.974*temp*temp - 44.889*temp +4409.5)\n",
    "            ECEcon = (1.974*tempEcon*tempEcon - 44.889*tempEcon +4409.5) \n",
    "            ECDrow = (1.974*tempDrow*tempDrow - 44.889*tempDrow +4409.5)\n",
    "\n",
    "#             EC = math.exp(7e-7)*temp*temp*temp*temp*temp*temp - math.exp(9e-5)*temp*temp*temp*temp*temp + 0.0022*temp*temp*temp*temp+ 0.0887*temp*temp*temp - 0.5655*temp*temp + 4979.7\n",
    "#             ECEcon = math.exp(7e-7)*tempEcon*tempEcon*tempEcon*tempEcon*tempEcon*tempEcon - math.exp(9e-5)*tempEcon*tempEcon*tempEcon*tempEcon*tempEcon + 0.0022*tempEcon*tempEcon*tempEcon*tempEcon+ 0.0887*tempEcon*tempEcon*tempEcon - 0.5655*tempEcon*tempEcon + 4979.7\n",
    "#             ECDrow = math.exp(7e-7)*tempDrow*tempDrow*tempDrow*tempDrow*tempDrow*tempDrow - math.exp(9e-5)*tempDrow*tempDrow*tempDrow*tempDrow*tempDrow + 0.0022*tempDrow*tempDrow*tempDrow*tempDrow+ 0.0887*tempDrow*tempDrow*tempDrow - 0.5655*tempDrow*tempDrow + 4979.7\n",
    "            \n",
    "            mAggresive.setObjective(EC + EUC + ELAggresive, GRB.MINIMIZE)\n",
    "            mEconomic.setObjective(ECEcon + EUC + ELEconomic, GRB.MINIMIZE)\n",
    "            mDrowsy.setObjective(ECDrow + EUC + ELDrowsy, GRB.MINIMIZE)\n",
    "\n",
    "            # Optimize model\n",
    "            mAggresive.optimize()\n",
    "            mEconomic.optimize()\n",
    "            mDrowsy.optimize()\n",
    "\n",
    "            for v in mAggresive.getVars():\n",
    "                print('%s %g' % (v.varName, v.x))\n",
    "\n",
    "            print('Obj: %g' % mAggresive.objVal)\n",
    "            \n",
    "            for v in mEconomic.getVars():\n",
    "                print('%s %g' % (v.varName, v.x))\n",
    "\n",
    "            print('Obj: %g' % mEconomic.objVal)\n",
    "            \n",
    "            for v in mDrowsy.getVars():\n",
    "                print('%s %g' % (v.varName, v.x))\n",
    "\n",
    "            print('Obj: %g' % mDrowsy.objVal)\n",
    "\n",
    "        except GurobiError as e:\n",
    "            print('Error code ' + str(e.errno) + \": \" + str(e))\n",
    "\n",
    "            "
   ]
  },
  {
   "cell_type": "code",
   "execution_count": null,
   "metadata": {},
   "outputs": [],
   "source": []
  },
  {
   "cell_type": "code",
   "execution_count": null,
   "metadata": {
    "scrolled": false
   },
   "outputs": [],
   "source": [
    "sc1 = Scenario()\n",
    "sc1.minimize_energy_consumption()"
   ]
  }
 ],
 "metadata": {
  "kernelspec": {
   "display_name": "Python 3",
   "language": "python",
   "name": "python3"
  },
  "language_info": {
   "codemirror_mode": {
    "name": "ipython",
    "version": 3
   },
   "file_extension": ".py",
   "mimetype": "text/x-python",
   "name": "python",
   "nbconvert_exporter": "python",
   "pygments_lexer": "ipython3",
   "version": "3.7.3"
  }
 },
 "nbformat": 4,
 "nbformat_minor": 2
}
